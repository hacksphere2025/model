{
 "cells": [
  {
   "cell_type": "code",
   "execution_count": null,
   "metadata": {},
   "outputs": [
    {
     "name": "stdout",
     "output_type": "stream",
     "text": [
      "{\n",
      "  \"name\": \"FindAllProducts(category: vegetables)\"\n",
      "}\n"
     ]
    }
   ],
   "source": [
    "from pydantic import BaseModel\n",
    "from langchain_groq import ChatGroq\n",
    "from langchain_core.prompts import ChatPromptTemplate\n",
    "from langchain_core.output_parsers import JsonOutputParser\n",
    "import json\n",
    "\n",
    "llm = ChatGroq(\n",
    "    model_name=\"mixtral-8x7b-32768\",\n",
    "    temperature=0.7\n",
    ")\n",
    "\n",
    "prompt = ChatPromptTemplate.from_messages([\n",
    "    (\"system\", \n",
    "        \"\"\"\n",
    "        Producer Function Names:\n",
    "            AddProduct()\n",
    "            FindListedProduct()\n",
    "            UpdateListedProduct()\n",
    "        \n",
    "        Consumer Function Names:\n",
    "            FindAllProducts(category: string)\n",
    "                \n",
    "        You are a chatbot with limited capabilities. There are two types of users with unique functions for each user. Functions with \n",
    "        empty parameters dont take any arguments and functions do not take any other parameters than specified above. You can only return \n",
    "        the function which is most suitable for the given scenario. You are currently adressing the user type Consumer. From the given \n",
    "        user input map the user's query into the appropriate given function and format it into JSON with this structure:\n",
    "            {{\n",
    "                name : functionName(queryParams)\n",
    "            }}\n",
    "        \"\"\"\n",
    "    ),\n",
    "    (\"user\", \"{input}\")\n",
    "])\n",
    "\n",
    "parser = JsonOutputParser(pydantic_object={\n",
    "    \"type\": \"object\",\n",
    "    \"properties\": {\n",
    "        \"name\": {\"type\": \"string\"}\n",
    "    }\n",
    "})\n",
    "\n",
    "chain = prompt | llm | parser\n",
    "\n",
    "def parse_product(description: str) -> dict:\n",
    "    result = chain.invoke({\"input\": description})\n",
    "    print(json.dumps(result, indent=2))\n",
    "\n",
    "        \n",
    "description = \"\"\"Find all vegetables in Erode area\"\"\"\n",
    "\n",
    "parse_product(description)"
   ]
  }
 ],
 "metadata": {
  "kernelspec": {
   "display_name": "torch",
   "language": "python",
   "name": "python3"
  },
  "language_info": {
   "codemirror_mode": {
    "name": "ipython",
    "version": 3
   },
   "file_extension": ".py",
   "mimetype": "text/x-python",
   "name": "python",
   "nbconvert_exporter": "python",
   "pygments_lexer": "ipython3",
   "version": "3.10.6"
  }
 },
 "nbformat": 4,
 "nbformat_minor": 2
}
